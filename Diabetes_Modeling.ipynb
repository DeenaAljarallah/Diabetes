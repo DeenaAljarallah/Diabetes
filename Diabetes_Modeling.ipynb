{
 "cells": [
  {
   "cell_type": "code",
   "execution_count": 23,
   "metadata": {},
   "outputs": [],
   "source": [
    "import pandas as pd\n",
    "import numpy as np\n",
    "import seaborn as sns\n",
    "import matplotlib.pyplot as plt\n",
    "%matplotlib inline\n",
    "from sklearn.linear_model import LogisticRegression\n",
    "from sklearn.neighbors import KNeighborsClassifier\n",
    "from sklearn.metrics import accuracy_score, precision_score, recall_score\n"
   ]
  },
  {
   "cell_type": "markdown",
   "metadata": {},
   "source": [
    "## Load the cleaned dataset"
   ]
  },
  {
   "cell_type": "code",
   "execution_count": 24,
   "metadata": {},
   "outputs": [],
   "source": [
    "di = pd.read_csv('diabetes_cleaned.csv')"
   ]
  },
  {
   "cell_type": "code",
   "execution_count": 25,
   "metadata": {},
   "outputs": [
    {
     "data": {
      "text/html": [
       "<div>\n",
       "<style scoped>\n",
       "    .dataframe tbody tr th:only-of-type {\n",
       "        vertical-align: middle;\n",
       "    }\n",
       "\n",
       "    .dataframe tbody tr th {\n",
       "        vertical-align: top;\n",
       "    }\n",
       "\n",
       "    .dataframe thead th {\n",
       "        text-align: right;\n",
       "    }\n",
       "</style>\n",
       "<table border=\"1\" class=\"dataframe\">\n",
       "  <thead>\n",
       "    <tr style=\"text-align: right;\">\n",
       "      <th></th>\n",
       "      <th>Pregnancies</th>\n",
       "      <th>Glucose</th>\n",
       "      <th>BloodPressure</th>\n",
       "      <th>SkinThickness</th>\n",
       "      <th>Insulin</th>\n",
       "      <th>BMI</th>\n",
       "      <th>DiabetesPedigreeFunction</th>\n",
       "      <th>Age</th>\n",
       "      <th>Outcome</th>\n",
       "    </tr>\n",
       "  </thead>\n",
       "  <tbody>\n",
       "    <tr>\n",
       "      <td>0</td>\n",
       "      <td>6.0</td>\n",
       "      <td>148.0</td>\n",
       "      <td>72.0</td>\n",
       "      <td>35.0</td>\n",
       "      <td>219.028414</td>\n",
       "      <td>33.6</td>\n",
       "      <td>0.627</td>\n",
       "      <td>50.0</td>\n",
       "      <td>1</td>\n",
       "    </tr>\n",
       "    <tr>\n",
       "      <td>1</td>\n",
       "      <td>1.0</td>\n",
       "      <td>85.0</td>\n",
       "      <td>66.0</td>\n",
       "      <td>29.0</td>\n",
       "      <td>70.341550</td>\n",
       "      <td>26.6</td>\n",
       "      <td>0.351</td>\n",
       "      <td>31.0</td>\n",
       "      <td>0</td>\n",
       "    </tr>\n",
       "    <tr>\n",
       "      <td>2</td>\n",
       "      <td>8.0</td>\n",
       "      <td>183.0</td>\n",
       "      <td>64.0</td>\n",
       "      <td>32.0</td>\n",
       "      <td>270.573172</td>\n",
       "      <td>23.3</td>\n",
       "      <td>0.672</td>\n",
       "      <td>32.0</td>\n",
       "      <td>1</td>\n",
       "    </tr>\n",
       "    <tr>\n",
       "      <td>3</td>\n",
       "      <td>1.0</td>\n",
       "      <td>89.0</td>\n",
       "      <td>66.0</td>\n",
       "      <td>23.0</td>\n",
       "      <td>94.000000</td>\n",
       "      <td>28.1</td>\n",
       "      <td>0.167</td>\n",
       "      <td>21.0</td>\n",
       "      <td>0</td>\n",
       "    </tr>\n",
       "    <tr>\n",
       "      <td>4</td>\n",
       "      <td>0.0</td>\n",
       "      <td>137.0</td>\n",
       "      <td>40.0</td>\n",
       "      <td>35.0</td>\n",
       "      <td>168.000000</td>\n",
       "      <td>43.1</td>\n",
       "      <td>2.288</td>\n",
       "      <td>33.0</td>\n",
       "      <td>1</td>\n",
       "    </tr>\n",
       "  </tbody>\n",
       "</table>\n",
       "</div>"
      ],
      "text/plain": [
       "   Pregnancies  Glucose  BloodPressure  SkinThickness     Insulin   BMI  \\\n",
       "0          6.0    148.0           72.0           35.0  219.028414  33.6   \n",
       "1          1.0     85.0           66.0           29.0   70.341550  26.6   \n",
       "2          8.0    183.0           64.0           32.0  270.573172  23.3   \n",
       "3          1.0     89.0           66.0           23.0   94.000000  28.1   \n",
       "4          0.0    137.0           40.0           35.0  168.000000  43.1   \n",
       "\n",
       "   DiabetesPedigreeFunction   Age  Outcome  \n",
       "0                     0.627  50.0        1  \n",
       "1                     0.351  31.0        0  \n",
       "2                     0.672  32.0        1  \n",
       "3                     0.167  21.0        0  \n",
       "4                     2.288  33.0        1  "
      ]
     },
     "execution_count": 25,
     "metadata": {},
     "output_type": "execute_result"
    }
   ],
   "source": [
    "di.head()"
   ]
  },
  {
   "cell_type": "code",
   "execution_count": 26,
   "metadata": {},
   "outputs": [
    {
     "data": {
      "text/plain": [
       "0    500\n",
       "1    268\n",
       "Name: Outcome, dtype: int64"
      ]
     },
     "execution_count": 26,
     "metadata": {},
     "output_type": "execute_result"
    }
   ],
   "source": [
    "di.Outcome.value_counts()"
   ]
  },
  {
   "cell_type": "markdown",
   "metadata": {},
   "source": [
    "## Splitting the Dataset\n",
    "##### now that we have transformed the data we need to split the dataset in two parts: a training dataset and a test dataset. Splitting the dataset is a very important step for supervised machine learning models. Basically we are going to use the first part to train the model (ignoring the column with the pre assigned label), then we use the trained model to make predictions on new data (which is the test dataset, not part of the training set) and compare the predicted value with the pre assigned label."
   ]
  },
  {
   "cell_type": "code",
   "execution_count": 27,
   "metadata": {},
   "outputs": [],
   "source": [
    "# Split the training dataset in 80% / 20%\n",
    "from sklearn.model_selection import train_test_split\n",
    "\n",
    "X = di.drop('Outcome', axis=1)\n",
    "Y = di['Outcome']\n",
    "\n",
    "\n",
    "x_train ,x_test , y_train ,  y_test = train_test_split(X,Y, test_size=0.20 ) "
   ]
  },
  {
   "cell_type": "code",
   "execution_count": 28,
   "metadata": {},
   "outputs": [
    {
     "data": {
      "text/plain": [
       "((614, 8), (614,))"
      ]
     },
     "execution_count": 28,
     "metadata": {},
     "output_type": "execute_result"
    }
   ],
   "source": [
    "x_train.shape , y_train.shape"
   ]
  },
  {
   "cell_type": "code",
   "execution_count": 29,
   "metadata": {},
   "outputs": [
    {
     "data": {
      "text/plain": [
       "((154, 8), (154,))"
      ]
     },
     "execution_count": 29,
     "metadata": {},
     "output_type": "execute_result"
    }
   ],
   "source": [
    "x_test.shape , y_test.shape"
   ]
  },
  {
   "cell_type": "markdown",
   "metadata": {},
   "source": [
    "## Select and train a model\n"
   ]
  },
  {
   "cell_type": "markdown",
   "metadata": {},
   "source": [
    "### I've instantiated the Logistic Regression estimator and fit in the training data, along with the training labels to train the model.\n",
    "\n",
    "#### The algorithm liblinear indicates the kind of optimization that logistic regression performs. Liblinear works very well for smaller datasets like the diabetes dataset."
   ]
  },
  {
   "cell_type": "code",
   "execution_count": 30,
   "metadata": {},
   "outputs": [
    {
     "data": {
      "text/plain": [
       "LogisticRegression(C=1.0, class_weight=None, dual=False, fit_intercept=True,\n",
       "                   intercept_scaling=1, l1_ratio=None, max_iter=100,\n",
       "                   multi_class='auto', n_jobs=None, penalty='l2',\n",
       "                   random_state=None, solver='liblinear', tol=0.0001, verbose=0,\n",
       "                   warm_start=False)"
      ]
     },
     "execution_count": 30,
     "metadata": {},
     "output_type": "execute_result"
    }
   ],
   "source": [
    "lg = LogisticRegression (solver='liblinear').fit(x_train , y_train)\n",
    "lg"
   ]
  },
  {
   "cell_type": "markdown",
   "metadata": {},
   "source": [
    "### baseline "
   ]
  },
  {
   "cell_type": "code",
   "execution_count": 31,
   "metadata": {},
   "outputs": [
    {
     "name": "stdout",
     "output_type": "stream",
     "text": [
      " y_test Baseline 0.6688311688311688\n"
     ]
    }
   ],
   "source": [
    "print(\" y_test Baseline\", 1 - y_test.mean())"
   ]
  },
  {
   "cell_type": "markdown",
   "metadata": {},
   "source": [
    "## Make a Prediction"
   ]
  },
  {
   "cell_type": "code",
   "execution_count": 46,
   "metadata": {},
   "outputs": [
    {
     "data": {
      "text/plain": [
       "array([0, 0, 0, 0, 0, 0, 0, 0, 1, 0], dtype=int64)"
      ]
     },
     "execution_count": 46,
     "metadata": {},
     "output_type": "execute_result"
    }
   ],
   "source": [
    "y_preds = lg.predict(x_test)\n",
    "y_preds[:10]"
   ]
  },
  {
   "cell_type": "code",
   "execution_count": 33,
   "metadata": {},
   "outputs": [
    {
     "data": {
      "text/plain": [
       "0    112\n",
       "1     42\n",
       "dtype: int64"
      ]
     },
     "execution_count": 33,
     "metadata": {},
     "output_type": "execute_result"
    }
   ],
   "source": [
    "pd.Series(y_preds).value_counts()"
   ]
  },
  {
   "cell_type": "markdown",
   "metadata": {},
   "source": [
    "## Accuracy Score"
   ]
  },
  {
   "cell_type": "code",
   "execution_count": 34,
   "metadata": {},
   "outputs": [
    {
     "name": "stdout",
     "output_type": "stream",
     "text": [
      "Accuracy of logistic regression classifier on test set: 0.79\n"
     ]
    }
   ],
   "source": [
    "print('Accuracy of logistic regression classifier on test set: {:.2f}'.format(lg.score(x_test, y_test)))\n",
    "\n",
    "    # another ways to know the accuracy \n",
    "#accuracy_score(y_test, y_preds)\n",
    "#model_score = lg.score(x_test , y_test)\n",
    "#print(model_score)"
   ]
  },
  {
   "cell_type": "markdown",
   "metadata": {},
   "source": [
    "## Probabilities"
   ]
  },
  {
   "cell_type": "code",
   "execution_count": 35,
   "metadata": {},
   "outputs": [],
   "source": [
    "di[\"predicted_outcome\"] = lg.predict(di[x_train.columns])\n",
    "\n",
    "di = pd.concat([di, pd.DataFrame(lg.predict_proba(di[x_train.columns]))], \n",
    "                 axis = 1)"
   ]
  },
  {
   "cell_type": "code",
   "execution_count": 36,
   "metadata": {},
   "outputs": [],
   "source": [
    "def highlight_max(s):\n",
    "    is_max = s == s.max()\n",
    "    return ['background-color: yellow' if v else '' for v in is_max]"
   ]
  },
  {
   "cell_type": "code",
   "execution_count": 37,
   "metadata": {},
   "outputs": [
    {
     "data": {
      "text/html": [
       "<style  type=\"text/css\" >\n",
       "    #T_ce50228c_92f3_11ea_b093_9758d8b69849row0_col11 {\n",
       "            background-color:  yellow;\n",
       "        }    #T_ce50228c_92f3_11ea_b093_9758d8b69849row1_col10 {\n",
       "            background-color:  yellow;\n",
       "        }    #T_ce50228c_92f3_11ea_b093_9758d8b69849row2_col11 {\n",
       "            background-color:  yellow;\n",
       "        }    #T_ce50228c_92f3_11ea_b093_9758d8b69849row3_col10 {\n",
       "            background-color:  yellow;\n",
       "        }    #T_ce50228c_92f3_11ea_b093_9758d8b69849row4_col11 {\n",
       "            background-color:  yellow;\n",
       "        }    #T_ce50228c_92f3_11ea_b093_9758d8b69849row5_col10 {\n",
       "            background-color:  yellow;\n",
       "        }    #T_ce50228c_92f3_11ea_b093_9758d8b69849row6_col10 {\n",
       "            background-color:  yellow;\n",
       "        }    #T_ce50228c_92f3_11ea_b093_9758d8b69849row7_col10 {\n",
       "            background-color:  yellow;\n",
       "        }    #T_ce50228c_92f3_11ea_b093_9758d8b69849row8_col11 {\n",
       "            background-color:  yellow;\n",
       "        }    #T_ce50228c_92f3_11ea_b093_9758d8b69849row9_col10 {\n",
       "            background-color:  yellow;\n",
       "        }</style><table id=\"T_ce50228c_92f3_11ea_b093_9758d8b69849\" ><thead>    <tr>        <th class=\"blank level0\" ></th>        <th class=\"col_heading level0 col0\" >Pregnancies</th>        <th class=\"col_heading level0 col1\" >Glucose</th>        <th class=\"col_heading level0 col2\" >BloodPressure</th>        <th class=\"col_heading level0 col3\" >SkinThickness</th>        <th class=\"col_heading level0 col4\" >Insulin</th>        <th class=\"col_heading level0 col5\" >BMI</th>        <th class=\"col_heading level0 col6\" >DiabetesPedigreeFunction</th>        <th class=\"col_heading level0 col7\" >Age</th>        <th class=\"col_heading level0 col8\" >Outcome</th>        <th class=\"col_heading level0 col9\" >predicted_outcome</th>        <th class=\"col_heading level0 col10\" >0</th>        <th class=\"col_heading level0 col11\" >1</th>    </tr></thead><tbody>\n",
       "                <tr>\n",
       "                        <th id=\"T_ce50228c_92f3_11ea_b093_9758d8b69849level0_row0\" class=\"row_heading level0 row0\" >0</th>\n",
       "                        <td id=\"T_ce50228c_92f3_11ea_b093_9758d8b69849row0_col0\" class=\"data row0 col0\" >6</td>\n",
       "                        <td id=\"T_ce50228c_92f3_11ea_b093_9758d8b69849row0_col1\" class=\"data row0 col1\" >148</td>\n",
       "                        <td id=\"T_ce50228c_92f3_11ea_b093_9758d8b69849row0_col2\" class=\"data row0 col2\" >72</td>\n",
       "                        <td id=\"T_ce50228c_92f3_11ea_b093_9758d8b69849row0_col3\" class=\"data row0 col3\" >35</td>\n",
       "                        <td id=\"T_ce50228c_92f3_11ea_b093_9758d8b69849row0_col4\" class=\"data row0 col4\" >219.028</td>\n",
       "                        <td id=\"T_ce50228c_92f3_11ea_b093_9758d8b69849row0_col5\" class=\"data row0 col5\" >33.6</td>\n",
       "                        <td id=\"T_ce50228c_92f3_11ea_b093_9758d8b69849row0_col6\" class=\"data row0 col6\" >0.627</td>\n",
       "                        <td id=\"T_ce50228c_92f3_11ea_b093_9758d8b69849row0_col7\" class=\"data row0 col7\" >50</td>\n",
       "                        <td id=\"T_ce50228c_92f3_11ea_b093_9758d8b69849row0_col8\" class=\"data row0 col8\" >1</td>\n",
       "                        <td id=\"T_ce50228c_92f3_11ea_b093_9758d8b69849row0_col9\" class=\"data row0 col9\" >1</td>\n",
       "                        <td id=\"T_ce50228c_92f3_11ea_b093_9758d8b69849row0_col10\" class=\"data row0 col10\" >0.334487</td>\n",
       "                        <td id=\"T_ce50228c_92f3_11ea_b093_9758d8b69849row0_col11\" class=\"data row0 col11\" >0.665513</td>\n",
       "            </tr>\n",
       "            <tr>\n",
       "                        <th id=\"T_ce50228c_92f3_11ea_b093_9758d8b69849level0_row1\" class=\"row_heading level0 row1\" >1</th>\n",
       "                        <td id=\"T_ce50228c_92f3_11ea_b093_9758d8b69849row1_col0\" class=\"data row1 col0\" >1</td>\n",
       "                        <td id=\"T_ce50228c_92f3_11ea_b093_9758d8b69849row1_col1\" class=\"data row1 col1\" >85</td>\n",
       "                        <td id=\"T_ce50228c_92f3_11ea_b093_9758d8b69849row1_col2\" class=\"data row1 col2\" >66</td>\n",
       "                        <td id=\"T_ce50228c_92f3_11ea_b093_9758d8b69849row1_col3\" class=\"data row1 col3\" >29</td>\n",
       "                        <td id=\"T_ce50228c_92f3_11ea_b093_9758d8b69849row1_col4\" class=\"data row1 col4\" >70.3416</td>\n",
       "                        <td id=\"T_ce50228c_92f3_11ea_b093_9758d8b69849row1_col5\" class=\"data row1 col5\" >26.6</td>\n",
       "                        <td id=\"T_ce50228c_92f3_11ea_b093_9758d8b69849row1_col6\" class=\"data row1 col6\" >0.351</td>\n",
       "                        <td id=\"T_ce50228c_92f3_11ea_b093_9758d8b69849row1_col7\" class=\"data row1 col7\" >31</td>\n",
       "                        <td id=\"T_ce50228c_92f3_11ea_b093_9758d8b69849row1_col8\" class=\"data row1 col8\" >0</td>\n",
       "                        <td id=\"T_ce50228c_92f3_11ea_b093_9758d8b69849row1_col9\" class=\"data row1 col9\" >0</td>\n",
       "                        <td id=\"T_ce50228c_92f3_11ea_b093_9758d8b69849row1_col10\" class=\"data row1 col10\" >0.910168</td>\n",
       "                        <td id=\"T_ce50228c_92f3_11ea_b093_9758d8b69849row1_col11\" class=\"data row1 col11\" >0.0898321</td>\n",
       "            </tr>\n",
       "            <tr>\n",
       "                        <th id=\"T_ce50228c_92f3_11ea_b093_9758d8b69849level0_row2\" class=\"row_heading level0 row2\" >2</th>\n",
       "                        <td id=\"T_ce50228c_92f3_11ea_b093_9758d8b69849row2_col0\" class=\"data row2 col0\" >8</td>\n",
       "                        <td id=\"T_ce50228c_92f3_11ea_b093_9758d8b69849row2_col1\" class=\"data row2 col1\" >183</td>\n",
       "                        <td id=\"T_ce50228c_92f3_11ea_b093_9758d8b69849row2_col2\" class=\"data row2 col2\" >64</td>\n",
       "                        <td id=\"T_ce50228c_92f3_11ea_b093_9758d8b69849row2_col3\" class=\"data row2 col3\" >32</td>\n",
       "                        <td id=\"T_ce50228c_92f3_11ea_b093_9758d8b69849row2_col4\" class=\"data row2 col4\" >270.573</td>\n",
       "                        <td id=\"T_ce50228c_92f3_11ea_b093_9758d8b69849row2_col5\" class=\"data row2 col5\" >23.3</td>\n",
       "                        <td id=\"T_ce50228c_92f3_11ea_b093_9758d8b69849row2_col6\" class=\"data row2 col6\" >0.672</td>\n",
       "                        <td id=\"T_ce50228c_92f3_11ea_b093_9758d8b69849row2_col7\" class=\"data row2 col7\" >32</td>\n",
       "                        <td id=\"T_ce50228c_92f3_11ea_b093_9758d8b69849row2_col8\" class=\"data row2 col8\" >1</td>\n",
       "                        <td id=\"T_ce50228c_92f3_11ea_b093_9758d8b69849row2_col9\" class=\"data row2 col9\" >1</td>\n",
       "                        <td id=\"T_ce50228c_92f3_11ea_b093_9758d8b69849row2_col10\" class=\"data row2 col10\" >0.21173</td>\n",
       "                        <td id=\"T_ce50228c_92f3_11ea_b093_9758d8b69849row2_col11\" class=\"data row2 col11\" >0.78827</td>\n",
       "            </tr>\n",
       "            <tr>\n",
       "                        <th id=\"T_ce50228c_92f3_11ea_b093_9758d8b69849level0_row3\" class=\"row_heading level0 row3\" >3</th>\n",
       "                        <td id=\"T_ce50228c_92f3_11ea_b093_9758d8b69849row3_col0\" class=\"data row3 col0\" >1</td>\n",
       "                        <td id=\"T_ce50228c_92f3_11ea_b093_9758d8b69849row3_col1\" class=\"data row3 col1\" >89</td>\n",
       "                        <td id=\"T_ce50228c_92f3_11ea_b093_9758d8b69849row3_col2\" class=\"data row3 col2\" >66</td>\n",
       "                        <td id=\"T_ce50228c_92f3_11ea_b093_9758d8b69849row3_col3\" class=\"data row3 col3\" >23</td>\n",
       "                        <td id=\"T_ce50228c_92f3_11ea_b093_9758d8b69849row3_col4\" class=\"data row3 col4\" >94</td>\n",
       "                        <td id=\"T_ce50228c_92f3_11ea_b093_9758d8b69849row3_col5\" class=\"data row3 col5\" >28.1</td>\n",
       "                        <td id=\"T_ce50228c_92f3_11ea_b093_9758d8b69849row3_col6\" class=\"data row3 col6\" >0.167</td>\n",
       "                        <td id=\"T_ce50228c_92f3_11ea_b093_9758d8b69849row3_col7\" class=\"data row3 col7\" >21</td>\n",
       "                        <td id=\"T_ce50228c_92f3_11ea_b093_9758d8b69849row3_col8\" class=\"data row3 col8\" >0</td>\n",
       "                        <td id=\"T_ce50228c_92f3_11ea_b093_9758d8b69849row3_col9\" class=\"data row3 col9\" >0</td>\n",
       "                        <td id=\"T_ce50228c_92f3_11ea_b093_9758d8b69849row3_col10\" class=\"data row3 col10\" >0.91402</td>\n",
       "                        <td id=\"T_ce50228c_92f3_11ea_b093_9758d8b69849row3_col11\" class=\"data row3 col11\" >0.0859798</td>\n",
       "            </tr>\n",
       "            <tr>\n",
       "                        <th id=\"T_ce50228c_92f3_11ea_b093_9758d8b69849level0_row4\" class=\"row_heading level0 row4\" >4</th>\n",
       "                        <td id=\"T_ce50228c_92f3_11ea_b093_9758d8b69849row4_col0\" class=\"data row4 col0\" >0</td>\n",
       "                        <td id=\"T_ce50228c_92f3_11ea_b093_9758d8b69849row4_col1\" class=\"data row4 col1\" >137</td>\n",
       "                        <td id=\"T_ce50228c_92f3_11ea_b093_9758d8b69849row4_col2\" class=\"data row4 col2\" >40</td>\n",
       "                        <td id=\"T_ce50228c_92f3_11ea_b093_9758d8b69849row4_col3\" class=\"data row4 col3\" >35</td>\n",
       "                        <td id=\"T_ce50228c_92f3_11ea_b093_9758d8b69849row4_col4\" class=\"data row4 col4\" >168</td>\n",
       "                        <td id=\"T_ce50228c_92f3_11ea_b093_9758d8b69849row4_col5\" class=\"data row4 col5\" >43.1</td>\n",
       "                        <td id=\"T_ce50228c_92f3_11ea_b093_9758d8b69849row4_col6\" class=\"data row4 col6\" >2.288</td>\n",
       "                        <td id=\"T_ce50228c_92f3_11ea_b093_9758d8b69849row4_col7\" class=\"data row4 col7\" >33</td>\n",
       "                        <td id=\"T_ce50228c_92f3_11ea_b093_9758d8b69849row4_col8\" class=\"data row4 col8\" >1</td>\n",
       "                        <td id=\"T_ce50228c_92f3_11ea_b093_9758d8b69849row4_col9\" class=\"data row4 col9\" >1</td>\n",
       "                        <td id=\"T_ce50228c_92f3_11ea_b093_9758d8b69849row4_col10\" class=\"data row4 col10\" >0.124631</td>\n",
       "                        <td id=\"T_ce50228c_92f3_11ea_b093_9758d8b69849row4_col11\" class=\"data row4 col11\" >0.875369</td>\n",
       "            </tr>\n",
       "            <tr>\n",
       "                        <th id=\"T_ce50228c_92f3_11ea_b093_9758d8b69849level0_row5\" class=\"row_heading level0 row5\" >5</th>\n",
       "                        <td id=\"T_ce50228c_92f3_11ea_b093_9758d8b69849row5_col0\" class=\"data row5 col0\" >5</td>\n",
       "                        <td id=\"T_ce50228c_92f3_11ea_b093_9758d8b69849row5_col1\" class=\"data row5 col1\" >116</td>\n",
       "                        <td id=\"T_ce50228c_92f3_11ea_b093_9758d8b69849row5_col2\" class=\"data row5 col2\" >74</td>\n",
       "                        <td id=\"T_ce50228c_92f3_11ea_b093_9758d8b69849row5_col3\" class=\"data row5 col3\" >32</td>\n",
       "                        <td id=\"T_ce50228c_92f3_11ea_b093_9758d8b69849row5_col4\" class=\"data row5 col4\" >127.84</td>\n",
       "                        <td id=\"T_ce50228c_92f3_11ea_b093_9758d8b69849row5_col5\" class=\"data row5 col5\" >25.6</td>\n",
       "                        <td id=\"T_ce50228c_92f3_11ea_b093_9758d8b69849row5_col6\" class=\"data row5 col6\" >0.201</td>\n",
       "                        <td id=\"T_ce50228c_92f3_11ea_b093_9758d8b69849row5_col7\" class=\"data row5 col7\" >30</td>\n",
       "                        <td id=\"T_ce50228c_92f3_11ea_b093_9758d8b69849row5_col8\" class=\"data row5 col8\" >0</td>\n",
       "                        <td id=\"T_ce50228c_92f3_11ea_b093_9758d8b69849row5_col9\" class=\"data row5 col9\" >0</td>\n",
       "                        <td id=\"T_ce50228c_92f3_11ea_b093_9758d8b69849row5_col10\" class=\"data row5 col10\" >0.797533</td>\n",
       "                        <td id=\"T_ce50228c_92f3_11ea_b093_9758d8b69849row5_col11\" class=\"data row5 col11\" >0.202467</td>\n",
       "            </tr>\n",
       "            <tr>\n",
       "                        <th id=\"T_ce50228c_92f3_11ea_b093_9758d8b69849level0_row6\" class=\"row_heading level0 row6\" >6</th>\n",
       "                        <td id=\"T_ce50228c_92f3_11ea_b093_9758d8b69849row6_col0\" class=\"data row6 col0\" >3</td>\n",
       "                        <td id=\"T_ce50228c_92f3_11ea_b093_9758d8b69849row6_col1\" class=\"data row6 col1\" >78</td>\n",
       "                        <td id=\"T_ce50228c_92f3_11ea_b093_9758d8b69849row6_col2\" class=\"data row6 col2\" >50</td>\n",
       "                        <td id=\"T_ce50228c_92f3_11ea_b093_9758d8b69849row6_col3\" class=\"data row6 col3\" >32</td>\n",
       "                        <td id=\"T_ce50228c_92f3_11ea_b093_9758d8b69849row6_col4\" class=\"data row6 col4\" >88</td>\n",
       "                        <td id=\"T_ce50228c_92f3_11ea_b093_9758d8b69849row6_col5\" class=\"data row6 col5\" >31</td>\n",
       "                        <td id=\"T_ce50228c_92f3_11ea_b093_9758d8b69849row6_col6\" class=\"data row6 col6\" >0.248</td>\n",
       "                        <td id=\"T_ce50228c_92f3_11ea_b093_9758d8b69849row6_col7\" class=\"data row6 col7\" >26</td>\n",
       "                        <td id=\"T_ce50228c_92f3_11ea_b093_9758d8b69849row6_col8\" class=\"data row6 col8\" >1</td>\n",
       "                        <td id=\"T_ce50228c_92f3_11ea_b093_9758d8b69849row6_col9\" class=\"data row6 col9\" >0</td>\n",
       "                        <td id=\"T_ce50228c_92f3_11ea_b093_9758d8b69849row6_col10\" class=\"data row6 col10\" >0.835061</td>\n",
       "                        <td id=\"T_ce50228c_92f3_11ea_b093_9758d8b69849row6_col11\" class=\"data row6 col11\" >0.164939</td>\n",
       "            </tr>\n",
       "            <tr>\n",
       "                        <th id=\"T_ce50228c_92f3_11ea_b093_9758d8b69849level0_row7\" class=\"row_heading level0 row7\" >7</th>\n",
       "                        <td id=\"T_ce50228c_92f3_11ea_b093_9758d8b69849row7_col0\" class=\"data row7 col0\" >10</td>\n",
       "                        <td id=\"T_ce50228c_92f3_11ea_b093_9758d8b69849row7_col1\" class=\"data row7 col1\" >115</td>\n",
       "                        <td id=\"T_ce50228c_92f3_11ea_b093_9758d8b69849row7_col2\" class=\"data row7 col2\" >72.4052</td>\n",
       "                        <td id=\"T_ce50228c_92f3_11ea_b093_9758d8b69849row7_col3\" class=\"data row7 col3\" >32</td>\n",
       "                        <td id=\"T_ce50228c_92f3_11ea_b093_9758d8b69849row7_col4\" class=\"data row7 col4\" >136.57</td>\n",
       "                        <td id=\"T_ce50228c_92f3_11ea_b093_9758d8b69849row7_col5\" class=\"data row7 col5\" >35.3</td>\n",
       "                        <td id=\"T_ce50228c_92f3_11ea_b093_9758d8b69849row7_col6\" class=\"data row7 col6\" >0.134</td>\n",
       "                        <td id=\"T_ce50228c_92f3_11ea_b093_9758d8b69849row7_col7\" class=\"data row7 col7\" >29</td>\n",
       "                        <td id=\"T_ce50228c_92f3_11ea_b093_9758d8b69849row7_col8\" class=\"data row7 col8\" >0</td>\n",
       "                        <td id=\"T_ce50228c_92f3_11ea_b093_9758d8b69849row7_col9\" class=\"data row7 col9\" >0</td>\n",
       "                        <td id=\"T_ce50228c_92f3_11ea_b093_9758d8b69849row7_col10\" class=\"data row7 col10\" >0.558214</td>\n",
       "                        <td id=\"T_ce50228c_92f3_11ea_b093_9758d8b69849row7_col11\" class=\"data row7 col11\" >0.441786</td>\n",
       "            </tr>\n",
       "            <tr>\n",
       "                        <th id=\"T_ce50228c_92f3_11ea_b093_9758d8b69849level0_row8\" class=\"row_heading level0 row8\" >8</th>\n",
       "                        <td id=\"T_ce50228c_92f3_11ea_b093_9758d8b69849row8_col0\" class=\"data row8 col0\" >2</td>\n",
       "                        <td id=\"T_ce50228c_92f3_11ea_b093_9758d8b69849row8_col1\" class=\"data row8 col1\" >197</td>\n",
       "                        <td id=\"T_ce50228c_92f3_11ea_b093_9758d8b69849row8_col2\" class=\"data row8 col2\" >70</td>\n",
       "                        <td id=\"T_ce50228c_92f3_11ea_b093_9758d8b69849row8_col3\" class=\"data row8 col3\" >45</td>\n",
       "                        <td id=\"T_ce50228c_92f3_11ea_b093_9758d8b69849row8_col4\" class=\"data row8 col4\" >543</td>\n",
       "                        <td id=\"T_ce50228c_92f3_11ea_b093_9758d8b69849row8_col5\" class=\"data row8 col5\" >30.5</td>\n",
       "                        <td id=\"T_ce50228c_92f3_11ea_b093_9758d8b69849row8_col6\" class=\"data row8 col6\" >0.158</td>\n",
       "                        <td id=\"T_ce50228c_92f3_11ea_b093_9758d8b69849row8_col7\" class=\"data row8 col7\" >53</td>\n",
       "                        <td id=\"T_ce50228c_92f3_11ea_b093_9758d8b69849row8_col8\" class=\"data row8 col8\" >1</td>\n",
       "                        <td id=\"T_ce50228c_92f3_11ea_b093_9758d8b69849row8_col9\" class=\"data row8 col9\" >1</td>\n",
       "                        <td id=\"T_ce50228c_92f3_11ea_b093_9758d8b69849row8_col10\" class=\"data row8 col10\" >0.202166</td>\n",
       "                        <td id=\"T_ce50228c_92f3_11ea_b093_9758d8b69849row8_col11\" class=\"data row8 col11\" >0.797834</td>\n",
       "            </tr>\n",
       "            <tr>\n",
       "                        <th id=\"T_ce50228c_92f3_11ea_b093_9758d8b69849level0_row9\" class=\"row_heading level0 row9\" >9</th>\n",
       "                        <td id=\"T_ce50228c_92f3_11ea_b093_9758d8b69849row9_col0\" class=\"data row9 col0\" >8</td>\n",
       "                        <td id=\"T_ce50228c_92f3_11ea_b093_9758d8b69849row9_col1\" class=\"data row9 col1\" >125</td>\n",
       "                        <td id=\"T_ce50228c_92f3_11ea_b093_9758d8b69849row9_col2\" class=\"data row9 col2\" >96</td>\n",
       "                        <td id=\"T_ce50228c_92f3_11ea_b093_9758d8b69849row9_col3\" class=\"data row9 col3\" >32</td>\n",
       "                        <td id=\"T_ce50228c_92f3_11ea_b093_9758d8b69849row9_col4\" class=\"data row9 col4\" >155.571</td>\n",
       "                        <td id=\"T_ce50228c_92f3_11ea_b093_9758d8b69849row9_col5\" class=\"data row9 col5\" >32</td>\n",
       "                        <td id=\"T_ce50228c_92f3_11ea_b093_9758d8b69849row9_col6\" class=\"data row9 col6\" >0.232</td>\n",
       "                        <td id=\"T_ce50228c_92f3_11ea_b093_9758d8b69849row9_col7\" class=\"data row9 col7\" >54</td>\n",
       "                        <td id=\"T_ce50228c_92f3_11ea_b093_9758d8b69849row9_col8\" class=\"data row9 col8\" >1</td>\n",
       "                        <td id=\"T_ce50228c_92f3_11ea_b093_9758d8b69849row9_col9\" class=\"data row9 col9\" >0</td>\n",
       "                        <td id=\"T_ce50228c_92f3_11ea_b093_9758d8b69849row9_col10\" class=\"data row9 col10\" >0.677315</td>\n",
       "                        <td id=\"T_ce50228c_92f3_11ea_b093_9758d8b69849row9_col11\" class=\"data row9 col11\" >0.322685</td>\n",
       "            </tr>\n",
       "    </tbody></table>"
      ],
      "text/plain": [
       "<pandas.io.formats.style.Styler at 0x5c04889b88>"
      ]
     },
     "execution_count": 37,
     "metadata": {},
     "output_type": "execute_result"
    }
   ],
   "source": [
    "di.head(10).style.apply(highlight_max, axis=1, subset=[0, 1])"
   ]
  },
  {
   "cell_type": "code",
   "execution_count": 38,
   "metadata": {},
   "outputs": [
    {
     "data": {
      "text/html": [
       "<div>\n",
       "<style scoped>\n",
       "    .dataframe tbody tr th:only-of-type {\n",
       "        vertical-align: middle;\n",
       "    }\n",
       "\n",
       "    .dataframe tbody tr th {\n",
       "        vertical-align: top;\n",
       "    }\n",
       "\n",
       "    .dataframe thead th {\n",
       "        text-align: right;\n",
       "    }\n",
       "</style>\n",
       "<table border=\"1\" class=\"dataframe\">\n",
       "  <thead>\n",
       "    <tr style=\"text-align: right;\">\n",
       "      <th></th>\n",
       "      <th>Outcome</th>\n",
       "      <th>predicted_outcome</th>\n",
       "      <th>Equal</th>\n",
       "    </tr>\n",
       "  </thead>\n",
       "  <tbody>\n",
       "    <tr>\n",
       "      <td>0</td>\n",
       "      <td>1</td>\n",
       "      <td>1</td>\n",
       "      <td>True</td>\n",
       "    </tr>\n",
       "    <tr>\n",
       "      <td>1</td>\n",
       "      <td>0</td>\n",
       "      <td>0</td>\n",
       "      <td>True</td>\n",
       "    </tr>\n",
       "    <tr>\n",
       "      <td>2</td>\n",
       "      <td>1</td>\n",
       "      <td>1</td>\n",
       "      <td>True</td>\n",
       "    </tr>\n",
       "    <tr>\n",
       "      <td>3</td>\n",
       "      <td>0</td>\n",
       "      <td>0</td>\n",
       "      <td>True</td>\n",
       "    </tr>\n",
       "    <tr>\n",
       "      <td>4</td>\n",
       "      <td>1</td>\n",
       "      <td>1</td>\n",
       "      <td>True</td>\n",
       "    </tr>\n",
       "    <tr>\n",
       "      <td>5</td>\n",
       "      <td>0</td>\n",
       "      <td>0</td>\n",
       "      <td>True</td>\n",
       "    </tr>\n",
       "    <tr>\n",
       "      <td>6</td>\n",
       "      <td>1</td>\n",
       "      <td>0</td>\n",
       "      <td>False</td>\n",
       "    </tr>\n",
       "    <tr>\n",
       "      <td>7</td>\n",
       "      <td>0</td>\n",
       "      <td>0</td>\n",
       "      <td>True</td>\n",
       "    </tr>\n",
       "    <tr>\n",
       "      <td>8</td>\n",
       "      <td>1</td>\n",
       "      <td>1</td>\n",
       "      <td>True</td>\n",
       "    </tr>\n",
       "    <tr>\n",
       "      <td>9</td>\n",
       "      <td>1</td>\n",
       "      <td>0</td>\n",
       "      <td>False</td>\n",
       "    </tr>\n",
       "  </tbody>\n",
       "</table>\n",
       "</div>"
      ],
      "text/plain": [
       "   Outcome  predicted_outcome  Equal\n",
       "0        1                  1   True\n",
       "1        0                  0   True\n",
       "2        1                  1   True\n",
       "3        0                  0   True\n",
       "4        1                  1   True\n",
       "5        0                  0   True\n",
       "6        1                  0  False\n",
       "7        0                  0   True\n",
       "8        1                  1   True\n",
       "9        1                  0  False"
      ]
     },
     "execution_count": 38,
     "metadata": {},
     "output_type": "execute_result"
    }
   ],
   "source": [
    "di[['Outcome', 'predicted_outcome']].head(10).assign(Equal = di['Outcome'] == di.predicted_outcome)"
   ]
  },
  {
   "cell_type": "markdown",
   "metadata": {},
   "source": [
    "## Confusion Matrix"
   ]
  },
  {
   "cell_type": "code",
   "execution_count": 50,
   "metadata": {},
   "outputs": [
    {
     "name": "stdout",
     "output_type": "stream",
     "text": [
      "True Negatives: 91\n",
      "True Positives: 30\n",
      "False Positives: 12\n",
      "False Negatives: 21\n"
     ]
    }
   ],
   "source": [
    "TN = cm[0, 0]; print(\"True Negatives:\", TN)\n",
    "TP = cm[1, 1]; print(\"True Positives:\", TP)\n",
    "FP = cm[0, 1]; print(\"False Positives:\", FP)\n",
    "FN = cm[1, 0]; print(\"False Negatives:\", FN)"
   ]
  },
  {
   "cell_type": "code",
   "execution_count": 49,
   "metadata": {},
   "outputs": [
    {
     "data": {
      "image/png": "[encoded data removed]",
      "text/plain": [
       "<Figure size 432x288 with 2 Axes>"
      ]
     },
     "metadata": {
      "needs_background": "light"
     },
     "output_type": "display_data"
    }
   ],
   "source": [
    "from sklearn.metrics import  confusion_matrix\n",
    "\n",
    "cm = np.array(confusion_matrix(y_test, y_preds))\n",
    "cm_lr = pd.DataFrame(cm, index=['actual_negative', 'actual_positive'],\n",
    "                             columns=['predicted_negative',\n",
    " \n",
    "                                    'predicted_positive']); cm_lr\n",
    "figsize=(16 , 8) \n",
    "plt.title('Confusion Matrix for Diabetes dataset', fontweight='bold', y=1.02)\n",
    "sns.heatmap(pd.DataFrame(cm_lr), annot=True, square=True, linewidth=0.5, \n",
    "            fmt='', center=0)\n",
    "plt.yticks(rotation=0);\n",
    "\n",
    "\n",
    "plt.savefig('matrix2.png');"
   ]
  },
  {
   "cell_type": "markdown",
   "metadata": {},
   "source": [
    "## Classification Report\n",
    "#### Shows the precision, recall and F1-score of our model.\n"
   ]
  },
  {
   "cell_type": "code",
   "execution_count": 41,
   "metadata": {},
   "outputs": [
    {
     "name": "stdout",
     "output_type": "stream",
     "text": [
      "              precision    recall  f1-score   support\n",
      "\n",
      "           0       0.81      0.88      0.85       103\n",
      "           1       0.71      0.59      0.65        51\n",
      "\n",
      "    accuracy                           0.79       154\n",
      "   macro avg       0.76      0.74      0.75       154\n",
      "weighted avg       0.78      0.79      0.78       154\n",
      "\n"
     ]
    }
   ],
   "source": [
    "from sklearn.metrics import classification_report\n",
    "print(classification_report(y_test, y_preds, target_names=['0', '1']))\n"
   ]
  },
  {
   "cell_type": "code",
   "execution_count": 42,
   "metadata": {},
   "outputs": [
    {
     "data": {
      "image/png": "[encoded data removed]",
      "text/plain": [
       "<Figure size 432x288 with 1 Axes>"
      ]
     },
     "metadata": {
      "needs_background": "light"
     },
     "output_type": "display_data"
    }
   ],
   "source": [
    "di.Outcome.value_counts().plot()\n",
    "di.predicted_outcome.value_counts().plot(color='crimson')\n",
    "plt.ylabel('Frequency');"
   ]
  },
  {
   "cell_type": "code",
   "execution_count": null,
   "metadata": {},
   "outputs": [],
   "source": []
  }
 ],
 "metadata": {
  "kernelspec": {
   "display_name": "Python 3",
   "language": "python",
   "name": "python3"
  },
  "language_info": {
   "codemirror_mode": {
    "name": "ipython",
    "version": 3
   },
   "file_extension": ".py",
   "mimetype": "text/x-python",
   "name": "python",
   "nbconvert_exporter": "python",
   "pygments_lexer": "ipython3",
   "version": "3.7.4"
  }
 },
 "nbformat": 4,
 "nbformat_minor": 2
}
